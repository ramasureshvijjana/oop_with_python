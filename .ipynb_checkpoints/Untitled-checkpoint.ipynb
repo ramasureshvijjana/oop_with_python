{
 "cells": [
  {
   "cell_type": "markdown",
   "id": "c6af0c34",
   "metadata": {},
   "source": [
    "# Calling a function in 2 different ways"
   ]
  },
  {
   "cell_type": "markdown",
   "id": "b7587182",
   "metadata": {},
   "source": [
    "### Way - 1"
   ]
  },
  {
   "cell_type": "code",
   "execution_count": null,
   "id": "5a9ac1f0",
   "metadata": {},
   "outputs": [],
   "source": [
    "Syntax: class_name.function_name(obj)\n",
    "    \n",
    "Note: This way not works inside of the class. Works only outside the class."
   ]
  },
  {
   "cell_type": "code",
   "execution_count": 1,
   "id": "52d9f025",
   "metadata": {},
   "outputs": [
    {
     "name": "stdout",
     "output_type": "stream",
     "text": [
      "Naveen\n"
     ]
    }
   ],
   "source": [
    "class Person:\n",
    "    def __init__(self, name, age, sal):\n",
    "        self.name = name\n",
    "        self.age = age\n",
    "        self.sal = sal\n",
    "        \n",
    "    def person_age_check(self):\n",
    "        if self.age < 25:\n",
    "            print(self.name)\n",
    "            \n",
    "p1 = Person('Naveen', 24, 23000)\n",
    "Person.person_age_check(p1)"
   ]
  },
  {
   "cell_type": "markdown",
   "id": "728d6604",
   "metadata": {},
   "source": [
    "### Way -2"
   ]
  },
  {
   "cell_type": "code",
   "execution_count": null,
   "id": "69bcc6c4",
   "metadata": {},
   "outputs": [],
   "source": [
    "Syntax: obj.function_name()"
   ]
  },
  {
   "cell_type": "code",
   "execution_count": 2,
   "id": "6c8fb6a4",
   "metadata": {},
   "outputs": [
    {
     "name": "stdout",
     "output_type": "stream",
     "text": [
      "Naveen\n"
     ]
    }
   ],
   "source": [
    "class Person:\n",
    "    def __init__(self, name, age, sal):\n",
    "        self.name = name\n",
    "        self.age = age\n",
    "        self.sal = sal\n",
    "        \n",
    "    def person_age_check(self):\n",
    "        if self.age < 25:\n",
    "            print(self.name)\n",
    "            \n",
    "    p1 = Person('Naveen', 24, 23000)\n",
    "    p1.person_age_check()"
   ]
  },
  {
   "cell_type": "markdown",
   "id": "04ecd4ec",
   "metadata": {},
   "source": [
    "### Note:"
   ]
  },
  {
   "cell_type": "code",
   "execution_count": null,
   "id": "458e7db7",
   "metadata": {},
   "outputs": [],
   "source": [
    "=> We can't use one class name and another class obj for calling a function with way-1."
   ]
  },
  {
   "cell_type": "code",
   "execution_count": 3,
   "id": "75417643",
   "metadata": {},
   "outputs": [
    {
     "ename": "TypeError",
     "evalue": "person_age_check() takes 1 positional argument but 2 were given",
     "output_type": "error",
     "traceback": [
      "\u001b[1;31m---------------------------------------------------------------------------\u001b[0m",
      "\u001b[1;31mTypeError\u001b[0m                                 Traceback (most recent call last)",
      "\u001b[1;32m<ipython-input-3-e029f807e1b5>\u001b[0m in \u001b[0;36m<module>\u001b[1;34m\u001b[0m\n\u001b[0;32m     20\u001b[0m \u001b[0mpsn\u001b[0m \u001b[1;33m=\u001b[0m \u001b[0mPerson\u001b[0m\u001b[1;33m(\u001b[0m\u001b[1;34m'Rama'\u001b[0m\u001b[1;33m,\u001b[0m \u001b[1;36m23\u001b[0m\u001b[1;33m,\u001b[0m \u001b[1;36m21000\u001b[0m\u001b[1;33m)\u001b[0m\u001b[1;33m\u001b[0m\u001b[1;33m\u001b[0m\u001b[0m\n\u001b[0;32m     21\u001b[0m \u001b[0mwrk\u001b[0m \u001b[1;33m=\u001b[0m \u001b[0mWork\u001b[0m\u001b[1;33m(\u001b[0m\u001b[1;34m'ML Engineer'\u001b[0m\u001b[1;33m,\u001b[0m \u001b[1;36m2\u001b[0m\u001b[1;33m)\u001b[0m\u001b[1;33m\u001b[0m\u001b[1;33m\u001b[0m\u001b[0m\n\u001b[1;32m---> 22\u001b[1;33m \u001b[0mpsn\u001b[0m\u001b[1;33m.\u001b[0m\u001b[0mperson_age_check\u001b[0m\u001b[1;33m(\u001b[0m\u001b[0mwrk\u001b[0m\u001b[1;33m)\u001b[0m\u001b[1;33m\u001b[0m\u001b[1;33m\u001b[0m\u001b[0m\n\u001b[0m",
      "\u001b[1;31mTypeError\u001b[0m: person_age_check() takes 1 positional argument but 2 were given"
     ]
    }
   ],
   "source": [
    "class Person:\n",
    "    def __init__(self, name, age, sal):\n",
    "        self.name = name\n",
    "        self.age = age\n",
    "        self.sal = sal\n",
    "        \n",
    "    def person_age_check(self):\n",
    "        print(self.job_title)\n",
    "            \n",
    "\n",
    "class Work:\n",
    "    \n",
    "    def __init__(self, job_title, exp):\n",
    "        self.job_title = job_title\n",
    "        self.exp = exp\n",
    "        \n",
    "    def all_details(self):\n",
    "        pass\n",
    "    \n",
    "psn = Person('Rama', 23, 21000)\n",
    "wrk = Work('ML Engineer', 2)\n",
    "psn.person_age_check(wrk)"
   ]
  }
 ],
 "metadata": {
  "kernelspec": {
   "display_name": "Python 3",
   "language": "python",
   "name": "python3"
  },
  "language_info": {
   "codemirror_mode": {
    "name": "ipython",
    "version": 3
   },
   "file_extension": ".py",
   "mimetype": "text/x-python",
   "name": "python",
   "nbconvert_exporter": "python",
   "pygments_lexer": "ipython3",
   "version": "3.8.3"
  }
 },
 "nbformat": 4,
 "nbformat_minor": 5
}
