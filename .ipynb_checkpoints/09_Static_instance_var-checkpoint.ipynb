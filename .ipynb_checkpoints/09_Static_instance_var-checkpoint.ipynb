{
 "cells": [
  {
   "cell_type": "markdown",
   "id": "da34d55d",
   "metadata": {},
   "source": [
    "# Static and Instance Variables "
   ]
  },
  {
   "cell_type": "code",
   "execution_count": null,
   "id": "a0786a7c",
   "metadata": {},
   "outputs": [],
   "source": [
    "=> The variable which is changes with respect to an object of the class is called an instance variable.\n",
    "=> Instant variables are defined inside of __init__() function.\n",
    "\n",
    "=> The variable which is the same for all the objects of the same class is called static or class variables.\n",
    "=> Static/ Class variables are defined inside of class and outside of __init__() function."
   ]
  },
  {
   "cell_type": "code",
   "execution_count": 2,
   "id": "60b7595e",
   "metadata": {},
   "outputs": [
    {
     "name": "stdout",
     "output_type": "stream",
     "text": [
      "10000 20 5 AM\n",
      "500 8 5 AM\n"
     ]
    }
   ],
   "source": [
    "\n",
    "# Define a class\n",
    "class Gym:\n",
    "    \n",
    "    # Class/static variable\n",
    "    open_time = '5 AM' # It is common for all Gym objs\n",
    "    \n",
    "    def __init__(self, fee, num_of_items):\n",
    "        \n",
    "        # Instance variable\n",
    "        self.fee = fee\n",
    "        self.num_of_items = num_of_items\n",
    "        \n",
    "gym_1 = Gym(10000, 20)\n",
    "gym_2 = Gym(500, 8)\n",
    "\n",
    "print(gym_1.fee, gym_1.num_of_items, gym_1.open_time)\n",
    "print(gym_2.fee, gym_2.num_of_items, gym_2.open_time)"
   ]
  },
  {
   "cell_type": "code",
   "execution_count": null,
   "id": "383e5c7f",
   "metadata": {},
   "outputs": [],
   "source": [
    "=> We can see open_time = '5 AM' is same for two objs."
   ]
  }
 ],
 "metadata": {
  "kernelspec": {
   "display_name": "Python 3",
   "language": "python",
   "name": "python3"
  },
  "language_info": {
   "codemirror_mode": {
    "name": "ipython",
    "version": 3
   },
   "file_extension": ".py",
   "mimetype": "text/x-python",
   "name": "python",
   "nbconvert_exporter": "python",
   "pygments_lexer": "ipython3",
   "version": "3.8.3"
  }
 },
 "nbformat": 4,
 "nbformat_minor": 5
}
