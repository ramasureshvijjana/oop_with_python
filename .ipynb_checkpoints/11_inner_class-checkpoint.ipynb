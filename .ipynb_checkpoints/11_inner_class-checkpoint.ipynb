{
 "cells": [
  {
   "cell_type": "markdown",
   "id": "f280eb60",
   "metadata": {},
   "source": [
    "# Inner Class in Python"
   ]
  },
  {
   "cell_type": "markdown",
   "id": "4deca0bb",
   "metadata": {},
   "source": [
    "## 1. Syntax"
   ]
  },
  {
   "cell_type": "code",
   "execution_count": 1,
   "id": "3bc96f5d",
   "metadata": {},
   "outputs": [],
   "source": [
    "class OuterCls:\n",
    "    \n",
    "    ## Some code\n",
    "    \n",
    "    class InnerCls:\n",
    "        \n",
    "        ## some code\n",
    "        pass\n",
    "    "
   ]
  },
  {
   "cell_type": "markdown",
   "id": "1da41810",
   "metadata": {},
   "source": [
    "## 2. Creating inner class obj inside of __init__()"
   ]
  },
  {
   "cell_type": "code",
   "execution_count": 2,
   "id": "82eb0658",
   "metadata": {},
   "outputs": [],
   "source": [
    "class Student:\n",
    "    \n",
    "    def __init__(self, name, roll_no):\n",
    "        self.name = name\n",
    "        self.roll_no = roll_no\n",
    "        self.lap = self.Laptop('Dell', 56000)\n",
    "        \n",
    "    def show(self):\n",
    "        print(self.name, self.roll_no)\n",
    "        \n",
    "    # Creating inner class\n",
    "    class Laptop:\n",
    "        \n",
    "\n",
    "        def __init__(self, brand, cost):\n",
    "            self.brand = brand \n",
    "            self.cost = cost\n",
    "\n",
    "        def show(self):\n",
    "            print(self.brand, self.cost)\n",
    "\n",
    "            \n",
    "std_1 = Student('Suresh_VJ', 98)\n"
   ]
  },
  {
   "cell_type": "code",
   "execution_count": 3,
   "id": "9d049034",
   "metadata": {},
   "outputs": [
    {
     "name": "stdout",
     "output_type": "stream",
     "text": [
      "Suresh_VJ 98\n",
      "Suresh_VJ\n",
      "98\n",
      "<__main__.Student.Laptop object at 0x000001D3991D3730>\n"
     ]
    }
   ],
   "source": [
    "std_1.show()\n",
    "\n",
    "print(std_1.name)\n",
    "print(std_1.roll_no)\n",
    "print(std_1.lap)"
   ]
  },
  {
   "cell_type": "code",
   "execution_count": 4,
   "id": "81179ee9",
   "metadata": {},
   "outputs": [
    {
     "name": "stdout",
     "output_type": "stream",
     "text": [
      "Dell 56000\n",
      "Dell\n",
      "56000\n"
     ]
    }
   ],
   "source": [
    "std_1.lap.show()\n",
    "\n",
    "print(std_1.lap.brand)\n",
    "print(std_1.lap.cost)"
   ]
  },
  {
   "cell_type": "markdown",
   "id": "6bfdf5d8",
   "metadata": {},
   "source": [
    "## 3. Creating inner class obj inside of outer class"
   ]
  },
  {
   "cell_type": "code",
   "execution_count": 5,
   "id": "642ec8a9",
   "metadata": {},
   "outputs": [],
   "source": [
    "class Student:\n",
    "    \n",
    "    def __init__(self, name, roll_no):\n",
    "        self.name = name\n",
    "        self.roll_no = roll_no\n",
    "        \n",
    "    def show(self):\n",
    "        print(self.name, self.roll_no)\n",
    "        \n",
    "    lap = Student.Laptop('Dell', 56000)\n",
    "        \n",
    "    # Creating inner class\n",
    "    class Laptop:\n",
    "        \n",
    "\n",
    "        def __init__(self, brand, cost):\n",
    "            self.brand = brand \n",
    "            self.cost = cost\n",
    "\n",
    "        def show(self):\n",
    "            print(self.brand, self.cost)\n",
    "\n",
    "            \n",
    "std_1 = Student('Suresh_VJ', 98)\n"
   ]
  },
  {
   "cell_type": "code",
   "execution_count": 6,
   "id": "08b9488a",
   "metadata": {},
   "outputs": [
    {
     "name": "stdout",
     "output_type": "stream",
     "text": [
      "Suresh_VJ 98\n",
      "Suresh_VJ\n",
      "98\n",
      "<__main__.Student.Laptop object at 0x000001D3991D32B0>\n"
     ]
    }
   ],
   "source": [
    "std_1.show()\n",
    "\n",
    "print(std_1.name)\n",
    "print(std_1.roll_no)\n",
    "print(std_1.lap)"
   ]
  },
  {
   "cell_type": "code",
   "execution_count": 7,
   "id": "1282f71f",
   "metadata": {},
   "outputs": [
    {
     "name": "stdout",
     "output_type": "stream",
     "text": [
      "Dell 56000\n",
      "Dell\n",
      "56000\n"
     ]
    }
   ],
   "source": [
    "std_1.lap.show()\n",
    "\n",
    "print(std_1.lap.brand)\n",
    "print(std_1.lap.cost)"
   ]
  },
  {
   "cell_type": "markdown",
   "id": "7e5e6ff0",
   "metadata": {},
   "source": [
    "## 2. Creating inner class obj outside"
   ]
  },
  {
   "cell_type": "code",
   "execution_count": 8,
   "id": "364c1e3d",
   "metadata": {},
   "outputs": [],
   "source": [
    "class Student:\n",
    "    \n",
    "    def __init__(self, name, roll_no):\n",
    "        self.name = name\n",
    "        self.roll_no = roll_no\n",
    "        \n",
    "    def show(self):\n",
    "        print(self.name, self.roll_no)\n",
    "        \n",
    "    \n",
    "        \n",
    "    # Creating inner class\n",
    "    class Laptop:\n",
    "        \n",
    "\n",
    "        def __init__(self, brand, cost):\n",
    "            self.brand = brand \n",
    "            self.cost = cost\n",
    "\n",
    "        def show(self):\n",
    "            print(self.brand, self.cost)\n",
    "\n",
    "            \n",
    "std_1 = Student('Suresh_VJ', 98)\n",
    "lap = std_1.Laptop('Dell', 56000)"
   ]
  },
  {
   "cell_type": "code",
   "execution_count": 9,
   "id": "89130f98",
   "metadata": {},
   "outputs": [
    {
     "name": "stdout",
     "output_type": "stream",
     "text": [
      "Suresh_VJ 98\n",
      "Suresh_VJ\n",
      "98\n"
     ]
    }
   ],
   "source": [
    "std_1.show()\n",
    "\n",
    "print(std_1.name)\n",
    "print(std_1.roll_no)\n"
   ]
  },
  {
   "cell_type": "code",
   "execution_count": 10,
   "id": "4e89caa4",
   "metadata": {},
   "outputs": [
    {
     "name": "stdout",
     "output_type": "stream",
     "text": [
      "Dell 56000\n",
      "Dell\n",
      "56000\n"
     ]
    }
   ],
   "source": [
    "lap.show()\n",
    "\n",
    "print(lap.brand)\n",
    "print(lap.cost)"
   ]
  }
 ],
 "metadata": {
  "kernelspec": {
   "display_name": "Python 3",
   "language": "python",
   "name": "python3"
  },
  "language_info": {
   "codemirror_mode": {
    "name": "ipython",
    "version": 3
   },
   "file_extension": ".py",
   "mimetype": "text/x-python",
   "name": "python",
   "nbconvert_exporter": "python",
   "pygments_lexer": "ipython3",
   "version": "3.8.3"
  }
 },
 "nbformat": 4,
 "nbformat_minor": 5
}
