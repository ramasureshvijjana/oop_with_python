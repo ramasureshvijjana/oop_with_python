{
 "cells": [
  {
   "cell_type": "markdown",
   "id": "7fc191af",
   "metadata": {},
   "source": [
    "## Introduction of OOP"
   ]
  },
  {
   "cell_type": "code",
   "execution_count": null,
   "id": "0252a1b8",
   "metadata": {},
   "outputs": [],
   "source": [
    "1. Python also support object oriented programing.\n",
    "\n",
    "2. Python is not 100% object oriented.\n",
    "\n",
    "3. Major principles of object-oriented programming system are given below:\n",
    "    \n",
    "    1. Class\n",
    "    2. Object\n",
    "    3. Method\n",
    "    4. Inheritance\n",
    "    5. Polymorphism\n",
    "    6. Data Abstraction\n",
    "    7. Encapsulation"
   ]
  },
  {
   "cell_type": "markdown",
   "id": "04e31cee",
   "metadata": {},
   "source": [
    "## Class"
   ]
  },
  {
   "cell_type": "code",
   "execution_count": null,
   "id": "ab54b084",
   "metadata": {},
   "outputs": [],
   "source": [
    "1. class will be create with class keyword\n",
    "\n",
    "2. Class is blue print.\n",
    "\n",
    "3. Class name standerds ------> MyClass"
   ]
  },
  {
   "cell_type": "code",
   "execution_count": null,
   "id": "de384b59",
   "metadata": {},
   "outputs": [],
   "source": [
    "class Rama:\n",
    "    \n",
    "    # Code we need to write."
   ]
  }
 ],
 "metadata": {
  "kernelspec": {
   "display_name": "Python 3",
   "language": "python",
   "name": "python3"
  },
  "language_info": {
   "codemirror_mode": {
    "name": "ipython",
    "version": 3
   },
   "file_extension": ".py",
   "mimetype": "text/x-python",
   "name": "python",
   "nbconvert_exporter": "python",
   "pygments_lexer": "ipython3",
   "version": "3.8.3"
  }
 },
 "nbformat": 4,
 "nbformat_minor": 5
}
