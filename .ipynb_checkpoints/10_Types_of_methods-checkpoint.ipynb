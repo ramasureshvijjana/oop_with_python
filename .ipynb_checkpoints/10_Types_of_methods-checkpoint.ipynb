{
 "cells": [
  {
   "cell_type": "markdown",
   "id": "5dd1f123",
   "metadata": {},
   "source": [
    "# Types of methods in OOP"
   ]
  },
  {
   "cell_type": "code",
   "execution_count": null,
   "id": "4a6fa423",
   "metadata": {},
   "outputs": [],
   "source": [
    "=> Three types of methods in oop python.\n",
    "\n",
    "    1. Instance methods.\n",
    "    2. Class methods.\n",
    "    3. Static methods."
   ]
  },
  {
   "cell_type": "markdown",
   "id": "2e7555e0",
   "metadata": {},
   "source": [
    "## 1. Instance Methods"
   ]
  },
  {
   "cell_type": "code",
   "execution_count": null,
   "id": "674716f3",
   "metadata": {},
   "outputs": [],
   "source": [
    "1. These methods are deals with instance variables."
   ]
  },
  {
   "cell_type": "code",
   "execution_count": 2,
   "id": "fe60027c",
   "metadata": {},
   "outputs": [
    {
     "name": "stdout",
     "output_type": "stream",
     "text": [
      "Name: Suresh_vj, Age: 24\n",
      "\n",
      "Name: Mahesh_vj, Age: 20\n",
      "\n"
     ]
    }
   ],
   "source": [
    "class Customer:\n",
    "    \n",
    "    # Constructor\n",
    "    def __init__(self, name, age):\n",
    "        self.name = name\n",
    "        self.age =  age\n",
    "        \n",
    "    def show_cstmr_details(self):\n",
    "        print(f'Name: {self.name}, Age: {self.age}\\n')\n",
    "        \n",
    "cstmr_1 = Customer('Suresh_vj', 24)\n",
    "cstmr_2 = Customer('Mahesh_vj', 20)\n",
    "\n",
    "# Calling instace function\n",
    "cstmr_1.show_cstmr_details()\n",
    "cstmr_2.show_cstmr_details()\n",
    "\n",
    "        "
   ]
  },
  {
   "cell_type": "markdown",
   "id": "019c5e8c",
   "metadata": {},
   "source": [
    "## 2. Class methods."
   ]
  },
  {
   "cell_type": "code",
   "execution_count": null,
   "id": "c153740e",
   "metadata": {},
   "outputs": [],
   "source": [
    "1. These methods are deals with class/static variables."
   ]
  },
  {
   "cell_type": "markdown",
   "id": "2c419f96",
   "metadata": {},
   "source": [
    "### 2.1. Using @classmethod"
   ]
  },
  {
   "cell_type": "code",
   "execution_count": 5,
   "id": "ba747a61",
   "metadata": {},
   "outputs": [
    {
     "name": "stdout",
     "output_type": "stream",
     "text": [
      "online\n",
      "cash\n"
     ]
    }
   ],
   "source": [
    "class Customer:\n",
    "    \n",
    "    # Staic variable\n",
    "    payment_type = ['online', 'cash']\n",
    "    \n",
    "    # Define class method\n",
    "    @classmethod\n",
    "    def select_payment_type(cls, pay_type):\n",
    "        print(cls.payment_type[pay_type])\n",
    "        \n",
    "\n",
    "\n",
    "# Calling class method\n",
    "Customer.select_payment_type(0)\n",
    "Customer.select_payment_type(1)"
   ]
  },
  {
   "cell_type": "markdown",
   "id": "641264fe",
   "metadata": {},
   "source": [
    "### 2.2. Using classmethod() function"
   ]
  },
  {
   "cell_type": "code",
   "execution_count": null,
   "id": "2593ab2f",
   "metadata": {},
   "outputs": [],
   "source": [
    "=> This classmethod() is used for convert the instance method to class method."
   ]
  },
  {
   "cell_type": "code",
   "execution_count": 4,
   "id": "c41d4fad",
   "metadata": {},
   "outputs": [
    {
     "name": "stdout",
     "output_type": "stream",
     "text": [
      "hello\n"
     ]
    }
   ],
   "source": [
    "class Customer:\n",
    "    \n",
    "    # Staic variable\n",
    "    payment_type = ['online', 'cash']\n",
    "    \n",
    "    # Constructor\n",
    "    def __init__(self, name, age):\n",
    "        self.name = name\n",
    "        self.age =  age\n",
    "        \n",
    "    def show_cstmr_details(self):\n",
    "        print('hello')\n",
    "        \n",
    "#\n",
    "Customer.show_details = classmethod(Customer.show_cstmr_details)\n",
    "Customer.show_details()"
   ]
  },
  {
   "cell_type": "markdown",
   "id": "14f19265",
   "metadata": {},
   "source": [
    "##  3. Static methods."
   ]
  },
  {
   "cell_type": "code",
   "execution_count": null,
   "id": "f110c290",
   "metadata": {},
   "outputs": [],
   "source": []
  },
  {
   "cell_type": "code",
   "execution_count": 5,
   "id": "92d32d14",
   "metadata": {},
   "outputs": [
    {
     "name": "stdout",
     "output_type": "stream",
     "text": [
      "This is Suresh VJ\n"
     ]
    }
   ],
   "source": [
    "class Customer:\n",
    "    \n",
    "    \n",
    "    # Define static method\n",
    "    @staticmethod\n",
    "    def select_payment_type():\n",
    "        print('This is Suresh VJ')\n",
    "        \n",
    "\n",
    "\n",
    "# Calling class method\n",
    "Customer.select_payment_type()"
   ]
  },
  {
   "cell_type": "code",
   "execution_count": null,
   "id": "05cd1d8e",
   "metadata": {},
   "outputs": [],
   "source": []
  }
 ],
 "metadata": {
  "kernelspec": {
   "display_name": "Python 3",
   "language": "python",
   "name": "python3"
  },
  "language_info": {
   "codemirror_mode": {
    "name": "ipython",
    "version": 3
   },
   "file_extension": ".py",
   "mimetype": "text/x-python",
   "name": "python",
   "nbconvert_exporter": "python",
   "pygments_lexer": "ipython3",
   "version": "3.8.3"
  }
 },
 "nbformat": 4,
 "nbformat_minor": 5
}
