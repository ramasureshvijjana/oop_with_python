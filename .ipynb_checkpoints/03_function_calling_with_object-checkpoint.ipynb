{
 "cells": [
  {
   "cell_type": "markdown",
   "id": "45897b52",
   "metadata": {},
   "source": [
    "# function calling"
   ]
  },
  {
   "cell_type": "markdown",
   "id": "d90071e8",
   "metadata": {},
   "source": [
    "### Calling a function inside class"
   ]
  },
  {
   "cell_type": "code",
   "execution_count": null,
   "id": "cf81cf7c",
   "metadata": {},
   "outputs": [],
   "source": [
    "1. The self parameter is a reference to the current instance of the class, \n",
    "    and is used to access variables that belongs to the class.\n",
    "\n",
    "2. It does not have to be named self , you can call it whatever you like, \n",
    "   but it has to be the first parameter of any function in the class.\n",
    "    \n",
    "3. We can't call a function with the class name.\n",
    "\n",
    "4. We can call a function directly inside of the current class only. and that function should not have self parameter.\n",
    "\n",
    "5. We can call any function inside and outside of class with obj reference."
   ]
  },
  {
   "cell_type": "code",
   "execution_count": 7,
   "id": "dc8b5cd9",
   "metadata": {},
   "outputs": [
    {
     "name": "stdout",
     "output_type": "stream",
     "text": [
      "Naveen\n"
     ]
    }
   ],
   "source": [
    "class Person:\n",
    "    def __init__(self, name, age, sal):\n",
    "        self.name = name\n",
    "        self.age = age\n",
    "        self.sal = sal\n",
    "        \n",
    "    def person_age_check(self):\n",
    "        if self.age < 25:\n",
    "            print(self.name)\n",
    "            \n",
    "    p1 = Person('Naveen', 24, 23000)\n",
    "    p1.person_age_check()"
   ]
  },
  {
   "cell_type": "markdown",
   "id": "2e3a38ea",
   "metadata": {},
   "source": [
    "### Calling a function out of calss"
   ]
  },
  {
   "cell_type": "code",
   "execution_count": 9,
   "id": "0ad47143",
   "metadata": {},
   "outputs": [
    {
     "name": "stdout",
     "output_type": "stream",
     "text": [
      "24\n"
     ]
    }
   ],
   "source": [
    "class Person:\n",
    "    def __init__(self, name, age, sal):\n",
    "        self.name = name\n",
    "        self.age = age\n",
    "        self.sal = sal\n",
    "        \n",
    "    def person_age_check(self):\n",
    "        if self.age < 25:\n",
    "            print(self.age)\n",
    "            \n",
    "p2 = Person('Naveen', 24, 23000)\n",
    "p2.person_age_check()"
   ]
  },
  {
   "cell_type": "code",
   "execution_count": null,
   "id": "019ffd59",
   "metadata": {},
   "outputs": [],
   "source": [
    "=> We can not call this functions without create object inside and outside of class"
   ]
  },
  {
   "cell_type": "code",
   "execution_count": 10,
   "id": "e431743a",
   "metadata": {},
   "outputs": [
    {
     "ename": "NameError",
     "evalue": "name 'person_age_check' is not defined",
     "output_type": "error",
     "traceback": [
      "\u001b[1;31m---------------------------------------------------------------------------\u001b[0m",
      "\u001b[1;31mNameError\u001b[0m                                 Traceback (most recent call last)",
      "\u001b[1;32m<ipython-input-10-a57e59ff0915>\u001b[0m in \u001b[0;36m<module>\u001b[1;34m\u001b[0m\n\u001b[0;32m      9\u001b[0m             \u001b[0mprint\u001b[0m\u001b[1;33m(\u001b[0m\u001b[0mself\u001b[0m\u001b[1;33m.\u001b[0m\u001b[0mage\u001b[0m\u001b[1;33m)\u001b[0m\u001b[1;33m\u001b[0m\u001b[1;33m\u001b[0m\u001b[0m\n\u001b[0;32m     10\u001b[0m \u001b[1;33m\u001b[0m\u001b[0m\n\u001b[1;32m---> 11\u001b[1;33m \u001b[0mperson_age_check\u001b[0m\u001b[1;33m(\u001b[0m\u001b[1;33m)\u001b[0m\u001b[1;33m\u001b[0m\u001b[1;33m\u001b[0m\u001b[0m\n\u001b[0m",
      "\u001b[1;31mNameError\u001b[0m: name 'person_age_check' is not defined"
     ]
    }
   ],
   "source": [
    "class Person:\n",
    "    def __init__(self, name, age, sal):\n",
    "        self.name = name\n",
    "        self.age = age\n",
    "        self.sal = sal\n",
    "        \n",
    "    def person_age_check(self):\n",
    "        if self.age < 25:\n",
    "            print(self.age)\n",
    "            \n",
    "# Calling the function outside of class without obj creation           \n",
    "person_age_check()"
   ]
  },
  {
   "cell_type": "code",
   "execution_count": 11,
   "id": "a9dbfabe",
   "metadata": {},
   "outputs": [
    {
     "ename": "TypeError",
     "evalue": "person_age_check() missing 1 required positional argument: 'self'",
     "output_type": "error",
     "traceback": [
      "\u001b[1;31m---------------------------------------------------------------------------\u001b[0m",
      "\u001b[1;31mTypeError\u001b[0m                                 Traceback (most recent call last)",
      "\u001b[1;32m<ipython-input-11-6a309aed541d>\u001b[0m in \u001b[0;36m<module>\u001b[1;34m\u001b[0m\n\u001b[1;32m----> 1\u001b[1;33m \u001b[1;32mclass\u001b[0m \u001b[0mPerson\u001b[0m\u001b[1;33m:\u001b[0m\u001b[1;33m\u001b[0m\u001b[1;33m\u001b[0m\u001b[0m\n\u001b[0m\u001b[0;32m      2\u001b[0m     \u001b[1;32mdef\u001b[0m \u001b[0m__init__\u001b[0m\u001b[1;33m(\u001b[0m\u001b[0mself\u001b[0m\u001b[1;33m,\u001b[0m \u001b[0mname\u001b[0m\u001b[1;33m,\u001b[0m \u001b[0mage\u001b[0m\u001b[1;33m,\u001b[0m \u001b[0msal\u001b[0m\u001b[1;33m)\u001b[0m\u001b[1;33m:\u001b[0m\u001b[1;33m\u001b[0m\u001b[1;33m\u001b[0m\u001b[0m\n\u001b[0;32m      3\u001b[0m         \u001b[0mself\u001b[0m\u001b[1;33m.\u001b[0m\u001b[0mname\u001b[0m \u001b[1;33m=\u001b[0m \u001b[0mname\u001b[0m\u001b[1;33m\u001b[0m\u001b[1;33m\u001b[0m\u001b[0m\n\u001b[0;32m      4\u001b[0m         \u001b[0mself\u001b[0m\u001b[1;33m.\u001b[0m\u001b[0mage\u001b[0m \u001b[1;33m=\u001b[0m \u001b[0mage\u001b[0m\u001b[1;33m\u001b[0m\u001b[1;33m\u001b[0m\u001b[0m\n\u001b[0;32m      5\u001b[0m         \u001b[0mself\u001b[0m\u001b[1;33m.\u001b[0m\u001b[0msal\u001b[0m \u001b[1;33m=\u001b[0m \u001b[0msal\u001b[0m\u001b[1;33m\u001b[0m\u001b[1;33m\u001b[0m\u001b[0m\n",
      "\u001b[1;32m<ipython-input-11-6a309aed541d>\u001b[0m in \u001b[0;36mPerson\u001b[1;34m()\u001b[0m\n\u001b[0;32m     10\u001b[0m \u001b[1;33m\u001b[0m\u001b[0m\n\u001b[0;32m     11\u001b[0m     \u001b[1;31m# Calling the function outside of class without obj creation\u001b[0m\u001b[1;33m\u001b[0m\u001b[1;33m\u001b[0m\u001b[1;33m\u001b[0m\u001b[0m\n\u001b[1;32m---> 12\u001b[1;33m     \u001b[0mperson_age_check\u001b[0m\u001b[1;33m(\u001b[0m\u001b[1;33m)\u001b[0m\u001b[1;33m\u001b[0m\u001b[1;33m\u001b[0m\u001b[0m\n\u001b[0m",
      "\u001b[1;31mTypeError\u001b[0m: person_age_check() missing 1 required positional argument: 'self'"
     ]
    }
   ],
   "source": [
    "class Person:\n",
    "    def __init__(self, name, age, sal):\n",
    "        self.name = name\n",
    "        self.age = age\n",
    "        self.sal = sal\n",
    "        \n",
    "    def person_age_check(self):\n",
    "        if self.age < 25:\n",
    "            print(self.age)\n",
    "            \n",
    "    # Calling the function in-side of class without obj creation           \n",
    "    person_age_check()"
   ]
  },
  {
   "cell_type": "markdown",
   "id": "c11cbac7",
   "metadata": {},
   "source": [
    "### Calling a function directly inside of the class"
   ]
  },
  {
   "cell_type": "code",
   "execution_count": 6,
   "id": "2f8995b8",
   "metadata": {},
   "outputs": [
    {
     "name": "stdout",
     "output_type": "stream",
     "text": [
      "Inside calss - calling directly\n"
     ]
    }
   ],
   "source": [
    "class Person:\n",
    "        \n",
    "    def person_age_check(cal_id):\n",
    "        \n",
    "        print(cal_id)\n",
    "            \n",
    "    # Calling the function in-side of class without obj creation           \n",
    "    person_age_check('Inside calss - calling directly')\n",
    "    "
   ]
  }
 ],
 "metadata": {
  "kernelspec": {
   "display_name": "Python 3",
   "language": "python",
   "name": "python3"
  },
  "language_info": {
   "codemirror_mode": {
    "name": "ipython",
    "version": 3
   },
   "file_extension": ".py",
   "mimetype": "text/x-python",
   "name": "python",
   "nbconvert_exporter": "python",
   "pygments_lexer": "ipython3",
   "version": "3.8.3"
  }
 },
 "nbformat": 4,
 "nbformat_minor": 5
}
