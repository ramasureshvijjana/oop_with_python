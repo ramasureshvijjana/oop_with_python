{
 "cells": [
  {
   "cell_type": "markdown",
   "id": "b1a12ca0",
   "metadata": {},
   "source": [
    "# Constructor"
   ]
  },
  {
   "cell_type": "code",
   "execution_count": null,
   "id": "0d577ebd",
   "metadata": {},
   "outputs": [],
   "source": [
    "\n",
    "1. __init__ function is the constructor in python.\n",
    "\n",
    "2. Initialization of instance variables is the main task of the constrictor.\n",
    "\n",
    "3. Whenever we create an object to the class this __init__ function will call implicitly.\n",
    "\n",
    "4. Creating two constrictors ( __init__ function) is not recommended in python.\n",
    "\n",
    "5. If we create two constructors for a class, an earlier one will override the old one.\n",
    "\n"
   ]
  },
  {
   "cell_type": "markdown",
   "id": "d4c742b4",
   "metadata": {},
   "source": [
    "### Syntax:"
   ]
  },
  {
   "cell_type": "code",
   "execution_count": null,
   "id": "b32b4b61",
   "metadata": {},
   "outputs": [],
   "source": [
    "class Ring:\n",
    "    \n",
    "    # Code\n",
    "    \n",
    "    def __init__(self):\n",
    "        # Assign instace variables here.\n",
    "        pass\n",
    "    \n",
    "    # Code\n",
    "    \n",
    "    pass"
   ]
  },
  {
   "cell_type": "markdown",
   "id": "ed16e59b",
   "metadata": {},
   "source": [
    "### Creating a constructor"
   ]
  },
  {
   "cell_type": "code",
   "execution_count": 1,
   "id": "c59812c8",
   "metadata": {},
   "outputs": [
    {
     "name": "stdout",
     "output_type": "stream",
     "text": [
      "\u001b[1mYello Sapphire\u001b[0m gem stone attached in \u001b[1mSilver\u001b[0m ring.\n"
     ]
    }
   ],
   "source": [
    "class Ring:\n",
    "    \n",
    "    # Creating a constructor for Ring class\n",
    "    def __init__(self, gem, metal):\n",
    "        \n",
    "        # Assign values to instace variables\n",
    "        self.gem = gem\n",
    "        self.metal = metal\n",
    "        \n",
    "# Creating object to Ring class.\n",
    "ring_1 = Ring('Yello Sapphire', 'Silver')\n",
    "\n",
    "print(f'\\033[1m{ring_1.gem}\\033[0m gem stone attached in \\033[1m{ring_1.metal}\\033[0m ring.')\n",
    "        \n",
    "        "
   ]
  },
  {
   "cell_type": "markdown",
   "id": "a2c283d7",
   "metadata": {},
   "source": [
    "### Creating Two Constructors"
   ]
  },
  {
   "cell_type": "code",
   "execution_count": 2,
   "id": "b6b68792",
   "metadata": {},
   "outputs": [],
   "source": [
    "class Ring:\n",
    "    \n",
    "    # Creating first constructor.\n",
    "    def __init__(self, gem, metal):\n",
    "        \n",
    "        # Assign values to instace variables\n",
    "        self.gem = gem\n",
    "        self.metal = metal\n",
    "        \n",
    "    \n",
    "    # Creating first constructor.\n",
    "    def __init__(self, gem, metal):\n",
    "        \n",
    "        # Assign values to instace variables\n",
    "        self.gem_name = gem\n",
    "        self.metal_name = metal\n",
    "        \n",
    "# Creating object to Ring class.\n",
    "ring_1 = Ring('Yello Sapphire', 'Silver')\n",
    "        \n",
    "        "
   ]
  },
  {
   "cell_type": "code",
   "execution_count": 3,
   "id": "fd7cfe87",
   "metadata": {},
   "outputs": [
    {
     "name": "stdout",
     "output_type": "stream",
     "text": [
      "\u001b[1mYello Sapphire\u001b[0m gem stone attached in \u001b[1mSilver\u001b[0m ring.\n"
     ]
    }
   ],
   "source": [
    "\n",
    "# Now print values \n",
    "print(f'\\033[1m{ring_1.gem_name}\\033[0m gem stone attached in \\033[1m{ring_1.metal_name}\\033[0m ring.')"
   ]
  },
  {
   "cell_type": "code",
   "execution_count": 4,
   "id": "7ddef699",
   "metadata": {},
   "outputs": [
    {
     "ename": "AttributeError",
     "evalue": "'Ring' object has no attribute 'gem'",
     "output_type": "error",
     "traceback": [
      "\u001b[1;31m---------------------------------------------------------------------------\u001b[0m",
      "\u001b[1;31mAttributeError\u001b[0m                            Traceback (most recent call last)",
      "\u001b[1;32m<ipython-input-4-a9135a6ffb74>\u001b[0m in \u001b[0;36m<module>\u001b[1;34m\u001b[0m\n\u001b[0;32m      1\u001b[0m \u001b[1;31m# It will give an error.\u001b[0m\u001b[1;33m\u001b[0m\u001b[1;33m\u001b[0m\u001b[1;33m\u001b[0m\u001b[0m\n\u001b[1;32m----> 2\u001b[1;33m \u001b[0mprint\u001b[0m\u001b[1;33m(\u001b[0m\u001b[1;34mf'\\033[1m{ring_1.gem}\\033[0m gem stone attached in \\033[1m{ring_1.metal}\\033[0m ring.'\u001b[0m\u001b[1;33m)\u001b[0m\u001b[1;33m\u001b[0m\u001b[1;33m\u001b[0m\u001b[0m\n\u001b[0m",
      "\u001b[1;31mAttributeError\u001b[0m: 'Ring' object has no attribute 'gem'"
     ]
    }
   ],
   "source": [
    "\n",
    "# It will give an error.\n",
    "print(f'\\033[1m{ring_1.gem}\\033[0m gem stone attached in \\033[1m{ring_1.metal}\\033[0m ring.')"
   ]
  },
  {
   "cell_type": "markdown",
   "id": "81c95fbf",
   "metadata": {},
   "source": [
    "### From Above Results"
   ]
  },
  {
   "cell_type": "code",
   "execution_count": null,
   "id": "953998f6",
   "metadata": {},
   "outputs": [],
   "source": [
    "\n",
    "1. Ring_1 obj is calling second __init__ only not forst one.\n",
    "2. Thats why we can get values with second construcor assing names(gem_name, metal_name) not first one(gem, metal)."
   ]
  }
 ],
 "metadata": {
  "kernelspec": {
   "display_name": "Python 3",
   "language": "python",
   "name": "python3"
  },
  "language_info": {
   "codemirror_mode": {
    "name": "ipython",
    "version": 3
   },
   "file_extension": ".py",
   "mimetype": "text/x-python",
   "name": "python",
   "nbconvert_exporter": "python",
   "pygments_lexer": "ipython3",
   "version": "3.8.3"
  }
 },
 "nbformat": 4,
 "nbformat_minor": 5
}
