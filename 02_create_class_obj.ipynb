{
 "cells": [
  {
   "cell_type": "markdown",
   "id": "eba1aa34",
   "metadata": {},
   "source": [
    "# Class Creation"
   ]
  },
  {
   "cell_type": "code",
   "execution_count": null,
   "id": "a365e40a",
   "metadata": {},
   "outputs": [],
   "source": [
    "=> In python class will be created with class keyword."
   ]
  },
  {
   "cell_type": "code",
   "execution_count": 1,
   "id": "28e2ae72",
   "metadata": {},
   "outputs": [
    {
     "name": "stdout",
     "output_type": "stream",
     "text": [
      "Suresh VJ\n"
     ]
    }
   ],
   "source": [
    "class MyClass:\n",
    "    name = 'Suresh VJ'\n",
    "    print(name)"
   ]
  },
  {
   "cell_type": "markdown",
   "id": "179e3a9d",
   "metadata": {},
   "source": [
    "### Create Object"
   ]
  },
  {
   "cell_type": "code",
   "execution_count": null,
   "id": "b3e9ef04",
   "metadata": {},
   "outputs": [],
   "source": [
    "1. Object is a real entity of cals.\n",
    "\n",
    "2. Object holds all class properties or class entities.\n",
    "\n",
    "3. Object has functions, variables, another class objec, same class objects."
   ]
  },
  {
   "cell_type": "code",
   "execution_count": 3,
   "id": "70ee6738",
   "metadata": {},
   "outputs": [
    {
     "name": "stdout",
     "output_type": "stream",
     "text": [
      "Suresh VJ 24 3.00 LPA\n"
     ]
    }
   ],
   "source": [
    "# creating a class\n",
    "class Person:\n",
    "    name = 'Suresh VJ'\n",
    "    age = 24\n",
    "    sal = '3.00 LPA'\n",
    "\n",
    "# Obj creation with class name\n",
    "p = Person()\n",
    "\n",
    "# printing values from obj p\n",
    "print(p.name, p.age, p.sal)"
   ]
  },
  {
   "cell_type": "code",
   "execution_count": null,
   "id": "55f1ecf7",
   "metadata": {},
   "outputs": [],
   "source": [
    "=> But in the above case we don't have any use with this type of obj and class creation.\n",
    "=> which means this way will not use in real time programing."
   ]
  },
  {
   "cell_type": "markdown",
   "id": "3e78d983",
   "metadata": {},
   "source": [
    "## The __init__() Function"
   ]
  },
  {
   "cell_type": "code",
   "execution_count": null,
   "id": "c27a1fa4",
   "metadata": {},
   "outputs": [],
   "source": [
    "=> All classes have a function called __init__(), which is always executed when the class is being initiated.  "
   ]
  },
  {
   "cell_type": "markdown",
   "id": "1e02af07",
   "metadata": {},
   "source": [
    "### Note:"
   ]
  },
  {
   "cell_type": "code",
   "execution_count": null,
   "id": "321ff49e",
   "metadata": {},
   "outputs": [],
   "source": [
    "=> Use the __init__() function to assign values to object properties, or other operations that are necessary to do when the \n",
    "   object is being created"
   ]
  },
  {
   "cell_type": "code",
   "execution_count": 4,
   "id": "45310919",
   "metadata": {},
   "outputs": [
    {
     "name": "stdout",
     "output_type": "stream",
     "text": [
      "Suresh 23 21000\n"
     ]
    }
   ],
   "source": [
    "class Person:\n",
    "    def __init__(self, name, age, sal):\n",
    "        self.name = name\n",
    "        self.age = age\n",
    "        self.sal = sal\n",
    "        \n",
    "p = Person(\"Suresh\", 23, 21000)\n",
    "print(p.name, p.age, p.sal)"
   ]
  },
  {
   "cell_type": "markdown",
   "id": "a1ee70d0",
   "metadata": {},
   "source": [
    "### Create two obj"
   ]
  },
  {
   "cell_type": "code",
   "execution_count": 7,
   "id": "fb677f4e",
   "metadata": {},
   "outputs": [
    {
     "name": "stdout",
     "output_type": "stream",
     "text": [
      "Suresh 23 21000\n",
      "Naveen 23 41000\n"
     ]
    }
   ],
   "source": [
    "class Person:\n",
    "    def __init__(self, name, age, sal):\n",
    "        self.name = name\n",
    "        self.age = age\n",
    "        self.sal = sal\n",
    "        \n",
    "p1 = Person(\"Suresh\", 23, 21000)\n",
    "p2 = Person(\"Naveen\", 23, 41000)\n",
    "print(p1.name, p1.age, p1.sal)\n",
    "print(p2.name, p2.age, p2.sal)"
   ]
  },
  {
   "cell_type": "markdown",
   "id": "b0e030fd",
   "metadata": {},
   "source": [
    "### Create object inside of class"
   ]
  },
  {
   "cell_type": "code",
   "execution_count": 9,
   "id": "a64475ed",
   "metadata": {},
   "outputs": [
    {
     "name": "stdout",
     "output_type": "stream",
     "text": [
      "Suresh 23 21000\n",
      "Naveen 23 41000\n"
     ]
    }
   ],
   "source": [
    "class Person:\n",
    "    def __init__(self, name, age, sal):\n",
    "        self.name = name\n",
    "        self.age = age\n",
    "        self.sal = sal\n",
    "        \n",
    "    rv1 = Person(\"Suresh\", 23, 21000)\n",
    "    rv2 = Person(\"Naveen\", 23, 41000)\n",
    "    print(rv1.name, rv1.age, rv1.sal)\n",
    "    print(rv2.name, rv2.age, rv2.sal)"
   ]
  },
  {
   "cell_type": "code",
   "execution_count": 10,
   "id": "b791e8a6",
   "metadata": {},
   "outputs": [
    {
     "ename": "NameError",
     "evalue": "name 'rv1' is not defined",
     "output_type": "error",
     "traceback": [
      "\u001b[1;31m---------------------------------------------------------------------------\u001b[0m",
      "\u001b[1;31mNameError\u001b[0m                                 Traceback (most recent call last)",
      "\u001b[1;32m<ipython-input-10-3edc1b0c9da4>\u001b[0m in \u001b[0;36m<module>\u001b[1;34m\u001b[0m\n\u001b[0;32m      9\u001b[0m \u001b[1;33m\u001b[0m\u001b[0m\n\u001b[0;32m     10\u001b[0m \u001b[1;33m\u001b[0m\u001b[0m\n\u001b[1;32m---> 11\u001b[1;33m \u001b[0mprint\u001b[0m\u001b[1;33m(\u001b[0m\u001b[0mrv1\u001b[0m\u001b[1;33m.\u001b[0m\u001b[0mname\u001b[0m\u001b[1;33m,\u001b[0m \u001b[0mrv1\u001b[0m\u001b[1;33m.\u001b[0m\u001b[0mage\u001b[0m\u001b[1;33m,\u001b[0m \u001b[0mrv1\u001b[0m\u001b[1;33m.\u001b[0m\u001b[0msal\u001b[0m\u001b[1;33m)\u001b[0m\u001b[1;33m\u001b[0m\u001b[1;33m\u001b[0m\u001b[0m\n\u001b[0m\u001b[0;32m     12\u001b[0m \u001b[0mprint\u001b[0m\u001b[1;33m(\u001b[0m\u001b[0mrv2\u001b[0m\u001b[1;33m.\u001b[0m\u001b[0mname\u001b[0m\u001b[1;33m,\u001b[0m \u001b[0mrv2\u001b[0m\u001b[1;33m.\u001b[0m\u001b[0mage\u001b[0m\u001b[1;33m,\u001b[0m \u001b[0mrv2\u001b[0m\u001b[1;33m.\u001b[0m\u001b[0msal\u001b[0m\u001b[1;33m)\u001b[0m\u001b[1;33m\u001b[0m\u001b[1;33m\u001b[0m\u001b[0m\n",
      "\u001b[1;31mNameError\u001b[0m: name 'rv1' is not defined"
     ]
    }
   ],
   "source": [
    "class Person:\n",
    "    def __init__(self, name, age, sal):\n",
    "        self.name = name\n",
    "        self.age = age\n",
    "        self.sal = sal\n",
    "        \n",
    "    rv1 = Person(\"Suresh\", 23, 21000)\n",
    "    rv2 = Person(\"Naveen\", 23, 41000)\n",
    "        \n",
    "# you can't acess class variables (rv1, rv2) at outside of class without create object for that class at outside\n",
    "print(rv1.name, rv1.age, rv1.sal)\n",
    "print(rv2.name, rv2.age, rv2.sal)"
   ]
  },
  {
   "cell_type": "code",
   "execution_count": 15,
   "id": "0f39c78c",
   "metadata": {},
   "outputs": [
    {
     "name": "stdout",
     "output_type": "stream",
     "text": [
      "Suresh 23 2100\n",
      "Naveen 24 4100\n"
     ]
    }
   ],
   "source": [
    "class Person:\n",
    "    def __init__(self, name, age, sal):\n",
    "        self.name = name\n",
    "        self.age = age\n",
    "        self.sal = sal\n",
    "        \n",
    "    rv1 = Person(\"Suresh\", 23, 2100)\n",
    "    rv2 = Person(\"Naveen\", 24, 4100)\n",
    "        \n",
    "# Acess class variables (rv1, rv2) at outside of class By creating another obj (rv3) for same class\n",
    "rv3 = Person(\"\", 23, 21000)\n",
    "print(rv3.rv1.name, rv3.rv1.age, rv3.rv1.sal)\n",
    "print(rv3.rv2.name, rv3.rv2.age, rv3.rv2.sal)"
   ]
  },
  {
   "cell_type": "markdown",
   "id": "1ff8380f",
   "metadata": {},
   "source": [
    "### Create two __init() functions"
   ]
  },
  {
   "cell_type": "code",
   "execution_count": null,
   "id": "e0890b94",
   "metadata": {},
   "outputs": [],
   "source": [
    "\n",
    "=> Python doesn't support multiple constructors, unlike other popular object-oriented programming languages such as Java. \n",
    "=> We can define multiple __init__() methods but the last one will override the earlier definitions."
   ]
  },
  {
   "cell_type": "code",
   "execution_count": 5,
   "id": "a76a9df2",
   "metadata": {},
   "outputs": [
    {
     "name": "stdout",
     "output_type": "stream",
     "text": [
      "True 200000 200000\n"
     ]
    },
    {
     "ename": "AttributeError",
     "evalue": "'Person' object has no attribute 'name'",
     "output_type": "error",
     "traceback": [
      "\u001b[1;31m---------------------------------------------------------------------------\u001b[0m",
      "\u001b[1;31mAttributeError\u001b[0m                            Traceback (most recent call last)",
      "\u001b[1;32m<ipython-input-5-490e6402b3fa>\u001b[0m in \u001b[0;36m<module>\u001b[1;34m\u001b[0m\n\u001b[0;32m     15\u001b[0m \u001b[0mprint\u001b[0m\u001b[1;33m(\u001b[0m\u001b[0mloan\u001b[0m\u001b[1;33m.\u001b[0m\u001b[0mhave_loan\u001b[0m\u001b[1;33m,\u001b[0m \u001b[0mloan\u001b[0m\u001b[1;33m.\u001b[0m\u001b[0mloan_amount\u001b[0m\u001b[1;33m,\u001b[0m \u001b[0mloan\u001b[0m\u001b[1;33m.\u001b[0m\u001b[0mloan_amount\u001b[0m\u001b[1;33m)\u001b[0m\u001b[1;33m\u001b[0m\u001b[1;33m\u001b[0m\u001b[0m\n\u001b[0;32m     16\u001b[0m \u001b[1;33m\u001b[0m\u001b[0m\n\u001b[1;32m---> 17\u001b[1;33m \u001b[0mprint\u001b[0m\u001b[1;33m(\u001b[0m\u001b[0mperson1\u001b[0m\u001b[1;33m.\u001b[0m\u001b[0mname\u001b[0m\u001b[1;33m,\u001b[0m \u001b[0mperson1\u001b[0m\u001b[1;33m.\u001b[0m\u001b[0mage\u001b[0m\u001b[1;33m,\u001b[0m \u001b[0mperson1\u001b[0m\u001b[1;33m.\u001b[0m\u001b[0msal\u001b[0m\u001b[1;33m)\u001b[0m\u001b[1;33m\u001b[0m\u001b[1;33m\u001b[0m\u001b[0m\n\u001b[0m",
      "\u001b[1;31mAttributeError\u001b[0m: 'Person' object has no attribute 'name'"
     ]
    }
   ],
   "source": [
    "class Person:\n",
    "    def __init__(self, name, age, sal):\n",
    "        self.name = name\n",
    "        self.age = age\n",
    "        self.sal = sal\n",
    "    # This second __init__() override the above __init__()   \n",
    "    def __init__(self, have_loan, loan_amount, paid_amount):\n",
    "        self.have_loan = have_loan\n",
    "        self.loan_amount = loan_amount\n",
    "        self.paid_amount = paid_amount\n",
    "        \n",
    "person1 = Person(\"Naveen\", 23, 21000)\n",
    "loan = Person(True, 200000, 36000)\n",
    "\n",
    "print(loan.have_loan, loan.loan_amount, loan.loan_amount)\n",
    "\n",
    "print(person1.name, person1.age, person1.sal)"
   ]
  },
  {
   "cell_type": "markdown",
   "id": "ca9d0097",
   "metadata": {},
   "source": [
    "### Check object"
   ]
  },
  {
   "cell_type": "code",
   "execution_count": 9,
   "id": "9443d0b6",
   "metadata": {},
   "outputs": [
    {
     "name": "stdout",
     "output_type": "stream",
     "text": [
      "Directly printing object:              <__main__.Person object at 0x000001808107B1F0>\n",
      "Printing object address:               1651432206832\n",
      "Type of object:                        <class '__main__.Person'>\n"
     ]
    }
   ],
   "source": [
    "class Person:\n",
    "    def __init__(self, name, age, sal):\n",
    "        self.name = name\n",
    "        self.age = age\n",
    "        self.sal = sal\n",
    "        \n",
    "p1 = Person(\"Navieen punnam\", 24, 21000)\n",
    "\n",
    "# print object\n",
    "print('Directly printing object:             ', p1)\n",
    "print('Printing object address:              ', id(p1))\n",
    "print('Type of object:                       ', type(p1))"
   ]
  }
 ],
 "metadata": {
  "kernelspec": {
   "display_name": "Python 3",
   "language": "python",
   "name": "python3"
  },
  "language_info": {
   "codemirror_mode": {
    "name": "ipython",
    "version": 3
   },
   "file_extension": ".py",
   "mimetype": "text/x-python",
   "name": "python",
   "nbconvert_exporter": "python",
   "pygments_lexer": "ipython3",
   "version": "3.8.3"
  }
 },
 "nbformat": 4,
 "nbformat_minor": 5
}
