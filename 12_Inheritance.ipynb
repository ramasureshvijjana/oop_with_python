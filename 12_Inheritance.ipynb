{
 "cells": [
  {
   "cell_type": "markdown",
   "id": "d9312c18",
   "metadata": {},
   "source": [
    "# Inheritance"
   ]
  },
  {
   "cell_type": "code",
   "execution_count": null,
   "id": "7b5a76d8",
   "metadata": {},
   "outputs": [],
   "source": [
    "Four types of inheritance are supported in python\n",
    "\n",
    "1. Simple Inheritance\n",
    "2. Multilevel Inheritance\n",
    "3. Multiple Inheritance\n",
    "4. Hierarchical Inheritance"
   ]
  },
  {
   "cell_type": "markdown",
   "id": "e58dc72f",
   "metadata": {},
   "source": [
    "## 1. Simple Inheritance"
   ]
  },
  {
   "cell_type": "code",
   "execution_count": null,
   "id": "be88ba0a",
   "metadata": {},
   "outputs": [],
   "source": [
    "1. In this type total two classes are inherited."
   ]
  }
 ],
 "metadata": {
  "kernelspec": {
   "display_name": "Python 3",
   "language": "python",
   "name": "python3"
  },
  "language_info": {
   "codemirror_mode": {
    "name": "ipython",
    "version": 3
   },
   "file_extension": ".py",
   "mimetype": "text/x-python",
   "name": "python",
   "nbconvert_exporter": "python",
   "pygments_lexer": "ipython3",
   "version": "3.8.3"
  }
 },
 "nbformat": 4,
 "nbformat_minor": 5
}
